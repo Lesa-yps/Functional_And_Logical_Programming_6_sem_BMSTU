{
 "cells": [
  {
   "cell_type": "markdown",
   "metadata": {},
   "source": [
    "# Решение практ. задания из опроса (03.03.2025) (Талышева ИУ7-65Б)"
   ]
  },
  {
   "cell_type": "code",
   "execution_count": null,
   "metadata": {
    "vscode": {
     "languageId": "plaintext"
    }
   },
   "outputs": [],
   "source": [
    "(defun my-list (a b c)\n",
    "    (cons a (cons b (cons c Nil))))\n",
    "\n",
    "(defun sort-lst (lst)\n",
    "   (let ((a (car lst))    \n",
    "         (b (cadr lst))   \n",
    "         (c (caddr lst))) \n",
    "       (cond ((< a b) (cond ((< b c) (my-list a b c))  \n",
    "                            ((< a c) (my-list a c b))  \n",
    "                            (t (my-list c a b))))      \n",
    "             ((< a c) (my-list b a c))                 \n",
    "             ((< b c) (my-list b c a))                 \n",
    "             (t (my-list c b a)))))                    \n",
    "\n",
    "(defun rev-sort-lst (lst)\n",
    "    (let* ((sort_lst (sort-lst lst))   \n",
    "           (min_el (car sort_lst))     \n",
    "           (sr_el (cadr sort_lst))     \n",
    "           (max_el (caddr sort_lst)))  \n",
    "        (my-list max_el sr_el min_el))) \n",
    "\n",
    "(defun sum-squares-num (x y)\n",
    "    (+ (* x x) (* y y)))\n",
    "\n",
    "(defun solve-task (lst1 lst2)\n",
    "    (let ((sort_lst1 (sort-lst lst1))  \n",
    "          (sort_lst2 (sort-lst lst2))) \n",
    "        (let ((el1 (sum-squares-num (car sort_lst1) (car sort_lst2))) \n",
    "              (el2 (+ (cadr sort_lst1) (cadr sort_lst2)))             \n",
    "              (el3 (- (caddr sort_lst1) (caddr sort_lst2))))          \n",
    "            (rev-sort-lst (my-list el1 el2 el3)))))                   \n",
    "\n",
    "(print (solve-task '(2 1 3) '(6 5 4)))"
   ]
  }
 ],
 "metadata": {
  "language_info": {
   "name": "python"
  }
 },
 "nbformat": 4,
 "nbformat_minor": 2
}
