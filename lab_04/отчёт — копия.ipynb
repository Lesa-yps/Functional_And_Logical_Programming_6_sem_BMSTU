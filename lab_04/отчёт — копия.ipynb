{
 "cells": [
  {
   "cell_type": "markdown",
   "metadata": {},
   "source": [
    "# **Лабораторная работа №4** (Талышева ИУ7-65Б)"
   ]
  },
  {
   "cell_type": "markdown",
   "metadata": {},
   "source": [
    "## 1. Теоретические вопросы:"
   ]
  },
  {
   "cell_type": "markdown",
   "metadata": {},
   "source": [
    "### 1) Синтаксическая форма и хранение программы в памяти."
   ]
  },
  {
   "cell_type": "markdown",
   "metadata": {},
   "source": [
    "В языке Lisp программы и данные представлены в виде S-выражений. S-выражения могут быть атомами или точечными парами. Точечная пара имеет форму `(A . B)`, где `A` и `B` могут быть атомами или другими точечными парами. Списки являются частным случаем S-выражений и могут быть пустыми (например, `()` или `Nil`) или непустыми (например, `(A B C D)`). Непустые списки состоят из головы (S-выражение) и хвоста (также списка).\n",
    "\n",
    "Синтаксически любая структура (точечная пара или список) заключается в круглые скобки. Например:\n",
    "- **(A . B)** – точечная пара;\n",
    "- **(A)** – список из одного элемента;\n",
    "- **(A B C D)** – непустой список, который эквивалентен `(A . (B . (C . (D . Nil))))`;\n",
    "- **()** или **Nil** – пустой список.\n",
    "\n",
    "Элементы списка также могут быть списками, например: `(A (B C) (D (E)))`.\n",
    "\n",
    "В памяти любая непустая структура Lisp представляется списковой ячейкой, которая хранит два указателя: на голову (первый элемент) и хвост (все остальные элементы). Программы в Lisp могут обрабатывать и преобразовывать другие программы или сами себя, так как они состоят из S-выражений и хранятся в виде бинарных узлов. Программа - это список, первый элемент которого имя функции, а остальное - её параметры."
   ]
  },
  {
   "cell_type": "markdown",
   "metadata": {},
   "source": [
    "### 2) Трактовка элементов списка."
   ]
  },
  {
   "cell_type": "markdown",
   "metadata": {},
   "source": [
    "Система считает, что первый элемент списка - имя функциии, а остальное её аргументы. Перед вызовом функции все её аргументы вычисляются.\n",
    "Чтобы список не рассматривался как имя функции, есть функция quote (сокращённо апостраф), которая возвращает свой аргумент без вычисления."
   ]
  },
  {
   "cell_type": "markdown",
   "metadata": {},
   "source": [
    "### 3) Порядок реализации программы."
   ]
  },
  {
   "cell_type": "markdown",
   "metadata": {},
   "source": [
    "Программа работает циклически: сначала она ожидает ввода S-выражения, затем передает его интерпретатору — функции `eval`. После выполнения `eval` программа выводит последний полученный результат. Алгоритм работы функции `eval` представлен на диаграмме:\n",
    "![Вам не повезло]()"
   ]
  },
  {
   "cell_type": "markdown",
   "metadata": {},
   "source": [
    "### 4) Способы определения функции."
   ]
  },
  {
   "cell_type": "markdown",
   "metadata": {},
   "source": [
    "1) именованная функция\n",
    "\n",
    "**Синтаксис:**\n",
    "\n",
    "(defun имя_функции (список_аргументов) тело_функции)\n",
    "\n",
    "**Пример:**\n",
    "\n",
    "(defun add (a b) (+ a b))\n",
    "\n",
    "(add 1 3)\n",
    "\n",
    "-> 4"
   ]
  },
  {
   "cell_type": "markdown",
   "metadata": {},
   "source": [
    "2) лямбда-выражение\n",
    "\n",
    "**Синтаксис:**\n",
    "\n",
    "(lambda (список_аргументов) тело_функции)\n",
    "\n",
    "**Пример:**\n",
    "\n",
    "((lambda (a b) (+ a b)) 1 3)\n",
    "\n",
    "-> 4"
   ]
  },
  {
   "cell_type": "markdown",
   "metadata": {},
   "source": [
    "### 5) Работа со списками."
   ]
  },
  {
   "cell_type": "markdown",
   "metadata": {},
   "source": [
    "Работа со списками является одной из ключевых особенностей языка Lisp, так как списки — это основная структура данных в Lisp. Список в памяти представляется как бинарная ячейка с указателями на голову и хвост списка. Функции в Lisp классифицируются следующим образом:\n",
    "\n",
    "#### Конструкторы:\n",
    "- **`cons`** — создает новую точечную пару, расставляя указатели на переданные 2 аргумента.\n",
    "- **`list`** — создает список из элементов.\n",
    "- **`append`** — объединяет списки.\n",
    "\n",
    "#### Селекторы:\n",
    "- **`car`** — возвращает первый элемент списка.\n",
    "- **`cdr`** — возвращает список без первого элемента.\n",
    "\n",
    "#### Предикаты:\n",
    "- **`null`** — проверяет, пуст ли список.\n",
    "- **`atom`** — проверяет, является ли элемент атомом.\n",
    "- **`listp`** — проверяет, является ли элемент списком.\n",
    "\n",
    "#### Функции сравнения:\n",
    "- **`eq`** — сравнивает два объекта на идентичность.\n",
    "- **`equal`** — сравнивает два объекта на равенство (в том числе списки)."
   ]
  },
  {
   "cell_type": "markdown",
   "metadata": {},
   "source": [
    "## 2. Практические задания (Common Lisp):"
   ]
  },
  {
   "cell_type": "markdown",
   "metadata": {},
   "source": [
    "### 1) Чем принципиально отличаются функции cons, list, append?"
   ]
  },
  {
   "cell_type": "markdown",
   "metadata": {},
   "source": [
    "### Пусть\n",
    "### (setf lst1 '(a b c))\n",
    "### (setf lst2 '(d e))\n",
    "### Каковы результаты вычисления следующих выражений?"
   ]
  },
  {
   "cell_type": "code",
   "execution_count": null,
   "metadata": {
    "vscode": {
     "languageId": "plaintext"
    }
   },
   "outputs": [],
   "source": [
    "(cons lst1 lst2)           ->         ((A B C) D E)\n",
    "(list lst1 lst2)           ->         ((A B C) (D E))\n",
    "(append lst1 lst2)         ->         (A B C D E)"
   ]
  },
  {
   "cell_type": "markdown",
   "metadata": {},
   "source": [
    "### 2) Каковы результаты вычисления следующих выражений, и почему?"
   ]
  },
  {
   "cell_type": "code",
   "execution_count": null,
   "metadata": {
    "vscode": {
     "languageId": "plaintext"
    }
   },
   "outputs": [],
   "source": [
    "(reverse '(a b c))              ->          (C B A)\n",
    "(reverse ())                    ->          NIL\n",
    "(reverse '(a b (c (d))))        ->          ((C (D)) B A)\n",
    "(reverse '((a b c)))            ->          ((A B C))\n",
    "(reverse '(a))                  ->          (A)\n",
    "(last '(a b c))                 ->          (C)\n",
    "(last '(a b (c)))               ->          ((C))\n",
    "(last '(a))                     ->          (A)\n",
    "(last '())                      ->          NIL\n",
    "(last '((a b c)))               ->          ((A B C))"
   ]
  },
  {
   "cell_type": "markdown",
   "metadata": {},
   "source": [
    "### 3) Написать, по крайней мере, два варианта функции, которая возвращает последний элемент своего списка-аргумента."
   ]
  },
  {
   "cell_type": "code",
   "execution_count": null,
   "metadata": {
    "vscode": {
     "languageId": "plaintext"
    }
   },
   "outputs": [],
   "source": [
    "(defun return-last-1 (lst) (car (last lst)))\n",
    "\n",
    "(defun return-last-2 (lst) (car (reverse lst)))"
   ]
  },
  {
   "cell_type": "markdown",
   "metadata": {},
   "source": [
    "### 4) Написать, по крайней мере, два варианта функции, которая возвращает свой список-аргумент без последнего элемента."
   ]
  },
  {
   "cell_type": "code",
   "execution_count": null,
   "metadata": {
    "vscode": {
     "languageId": "plaintext"
    }
   },
   "outputs": [],
   "source": [
    "(defun return-without-last-1 (lst)\n",
    "    (reverse (cdr (reverse lst))))\n",
    "\n",
    "(defun return-without-last-2 (lst)\n",
    "    (cond ((null (cdr lst)) Nil)\n",
    "          (t (cons (car lst) (return-without-last-2 (cdr lst))))))"
   ]
  },
  {
   "cell_type": "markdown",
   "metadata": {},
   "source": [
    "### 5) Напишите функцию swap-first-last, которая переставляет в списке-аргументе первый и последний элементы."
   ]
  },
  {
   "cell_type": "code",
   "execution_count": null,
   "metadata": {
    "vscode": {
     "languageId": "plaintext"
    }
   },
   "outputs": [],
   "source": [
    "(defun swap-first-last (lst)\n",
    "  (let ((a (car lst))\n",
    "        (c (car (last lst))))\n",
    "      (cons c (reverse (cons a (cdr (reverse (cdr lst))))))))"
   ]
  },
  {
   "cell_type": "markdown",
   "metadata": {},
   "source": [
    "### 6) Написать простой вариант игры в кости, в котором бросаются две игральные кости. Если сумма выпавших очков равна 7 или 11, игрок выиграл. Если выпало (1,1) или (6,6), игрок имеет право снова бросить кости, во всех остальных случаях ход переходит ко второму игроку, но запоминается сумма выпавших очков. Если второй игрок не выигрывает абсолютно, то выигрывает тот игрок, у которого больше очков. Результат игры и значения выпавших костей выводить на экран с помощью функции print."
   ]
  },
  {
   "cell_type": "code",
   "execution_count": null,
   "metadata": {
    "vscode": {
     "languageId": "plaintext"
    }
   },
   "outputs": [],
   "source": [
    "(setf *random-state* (make-random-state t)) ;; Setting up random numbers\n",
    "\n",
    ";; Rolls two dice for a given player and returns the results\n",
    "(defun throw-dices (player)\n",
    "  (let ((d1 (+ 1 (random 6)))\n",
    "        (d2 (+ 1 (random 6))))\n",
    "     (print (list \"Player\" player \"rolled\" d1 d2))\n",
    "     (list d1 d2 (+ d1 d2))))\n",
    "\n",
    ";; Checks if a reroll is needed (if both dice are 1s or 6s)\n",
    "(defun should-reroll? (lst-res-throw)\n",
    "  (let ((d1 (car lst-res-throw))\n",
    "        (d2 (cadr lst-res-throw)))\n",
    "     (or (and (= d1 1) (= d2 1))\n",
    "         (and (= d1 6) (= d2 6)))))\n",
    "\n",
    ";; Rolls dice and rerolls if necessary\n",
    "(defun roll-dices-with-reroll (player)\n",
    "    (let ((result (throw-dices player)))\n",
    "       (if (should-reroll? result) (throw-dices player) result)))\n",
    "\n",
    ";; Checks for an instant win (sum is 7 or 11)\n",
    "(defun check-instant-win (sum)\n",
    "  (if (or (= sum 7) (= sum 11)) 'win sum))\n",
    "\n",
    ";; Handles a player's turn: rolls dice and checks for an instant win\n",
    "(defun play-player (player)\n",
    "  (let ((result (roll-dices-with-reroll player)))\n",
    "     (check-instant-win (caddr result))))\n",
    "\n",
    ";; Determines the winner based on dice sums\n",
    "(defun determine-winner (sum1 sum2)\n",
    "  (cond ((> sum1 sum2) (print \"Player 1 wins!\"))\n",
    "        ((< sum1 sum2) (print \"Player 2 wins!\"))\n",
    "        (t (print \"It's a draw!\"))))\n",
    "\n",
    ";; Runs the game: both players take turns, and the winner is determined\n",
    "(defun play ()\n",
    "  (let ((p1 (play-player 1)))\n",
    "    (if (eql p1 'win)\n",
    "        (print \"Player 1 wins!\")\n",
    "        (let ((p2 (play-player 2)))\n",
    "          (if (eql p2 'win)\n",
    "              (print \"Player 2 wins!\")\n",
    "              (determine-winner p1 p2))))))"
   ]
  },
  {
   "cell_type": "markdown",
   "metadata": {},
   "source": [
    "### 7) Написать функцию, которая по своему списку-аргументу lst определяет, является ли он палиндромом (то есть равны ли lst и (reverse lst))."
   ]
  },
  {
   "cell_type": "code",
   "execution_count": null,
   "metadata": {
    "vscode": {
     "languageId": "plaintext"
    }
   },
   "outputs": [],
   "source": [
    "(defun del-first-last (lst)\n",
    "  (reverse (cdr (reverse (cdr lst)))))\n",
    "\n",
    "(defun is_palindrome (lst)\n",
    "  (cond ((null lst) t)\n",
    "        ((null (cdr lst)) t)\n",
    "        (t (let ((a (car lst))\n",
    "                 (c (car (last lst))))\n",
    "              (cond ((equal a c)\n",
    "                     (is_palindrome (del-first-last lst)))\n",
    "                    (t Nil))))))"
   ]
  },
  {
   "cell_type": "markdown",
   "metadata": {},
   "source": [
    "### 8) Напишите свои необходимые функции, которые обрабатывают таблицу из 4-х точечных пар: (страна . столица), и возвращают по стране — столицу, а по столице — страну."
   ]
  },
  {
   "cell_type": "code",
   "execution_count": null,
   "metadata": {
    "vscode": {
     "languageId": "plaintext"
    }
   },
   "outputs": [],
   "source": [
    "(defun country-capital (table country)\n",
    "  (cond ((null table) Nil)\n",
    "        ((eql (caar table) country) (cdar table))\n",
    "        (t (country-capital (cdr table) country))))\n",
    "\n",
    "(defun capital-country (table capital)\n",
    "  (cond ((null table) Nil)\n",
    "        ((eql (cdar table) capital) (caar table))\n",
    "        (t (capital-country (cdr table) capital))))"
   ]
  },
  {
   "cell_type": "markdown",
   "metadata": {},
   "source": [
    "### 9) Напишите функцию, которая умножает на заданное число-аргумент первый числовой элемент списка из заданного 3-х элементного списка-аргумента, когда:"
   ]
  },
  {
   "cell_type": "markdown",
   "metadata": {},
   "source": [
    "#### а) все элементы списка — числа:"
   ]
  },
  {
   "cell_type": "code",
   "execution_count": null,
   "metadata": {
    "vscode": {
     "languageId": "plaintext"
    }
   },
   "outputs": [],
   "source": [
    "(defun multy-lst-num (lst num)\n",
    "    (if (and (numberp (car lst))\n",
    "             (numberp (cadr lst))\n",
    "             (numberp (caddr lst)))\n",
    "           (* (car lst) num)))"
   ]
  },
  {
   "cell_type": "markdown",
   "metadata": {},
   "source": [
    "#### б) элементы списка — любые объекты."
   ]
  },
  {
   "cell_type": "code",
   "execution_count": null,
   "metadata": {
    "vscode": {
     "languageId": "plaintext"
    }
   },
   "outputs": [],
   "source": [
    "(defun multy-lst-num (lst num)\n",
    "    (cond ((null lst) Nil)\n",
    "          ((numberp (car lst)) (* (car lst) num))\n",
    "          (t (multy-lst-num (cdr lst) num))))"
   ]
  }
 ],
 "metadata": {
  "kernelspec": {
   "display_name": "Python 3",
   "language": "python",
   "name": "python3"
  },
  "language_info": {
   "codemirror_mode": {
    "name": "ipython",
    "version": 3
   },
   "file_extension": ".py",
   "mimetype": "text/x-python",
   "name": "python",
   "nbconvert_exporter": "python",
   "pygments_lexer": "ipython3",
   "version": "3.11.9"
  }
 },
 "nbformat": 4,
 "nbformat_minor": 2
}
